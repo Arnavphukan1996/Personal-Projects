{
 "cells": [
  {
   "cell_type": "markdown",
   "metadata": {},
   "source": [
    "## Importing all the required libraries"
   ]
  },
  {
   "cell_type": "code",
   "execution_count": 1,
   "metadata": {},
   "outputs": [],
   "source": [
    "import os\n",
    "import pandas as pd\n",
    "import numpy as np\n",
    "import matplotlib.pyplot as plt\n",
    "import sklearn\n",
    "import seaborn as sns\n",
    "from scipy import stats\n",
    "import random\n",
    "import statsmodels.api as sm\n",
    "from scipy.stats import pearsonr\n",
    "from sklearn import preprocessing\n",
    "from statsmodels.formula.api import ols\n",
    "from sklearn import linear_model\n",
    "from sklearn.ensemble import RandomForestRegressor\n",
    "from math import sqrt\n",
    "from sklearn import metrics\n",
    "from numpy import cov\n",
    "from sklearn.metrics import mean_squared_error\n",
    "from sklearn.tree import DecisionTreeRegressor\n",
    "from sklearn.model_selection import train_test_split\n"
   ]
  },
  {
   "cell_type": "markdown",
   "metadata": {},
   "source": [
    "## String Converter"
   ]
  },
  {
   "cell_type": "code",
   "execution_count": 2,
   "metadata": {},
   "outputs": [],
   "source": [
    "import pandas as pd\n",
    "pd.set_option('display.float_format', lambda x: '%.3f' % x)"
   ]
  },
  {
   "cell_type": "markdown",
   "metadata": {},
   "source": [
    "## Setting the current working directory"
   ]
  },
  {
   "cell_type": "code",
   "execution_count": 3,
   "metadata": {},
   "outputs": [],
   "source": [
    "os.chdir(\"C:/Users/Arnav Phukan/Desktop/Projects/Employee Absenteeism\")"
   ]
  },
  {
   "cell_type": "markdown",
   "metadata": {},
   "source": [
    "## Checking the directory is present"
   ]
  },
  {
   "cell_type": "code",
   "execution_count": 4,
   "metadata": {},
   "outputs": [
    {
     "data": {
      "text/plain": [
       "'C:\\\\Users\\\\Arnav Phukan\\\\Desktop\\\\Projects\\\\Employee Absenteeism'"
      ]
     },
     "execution_count": 4,
     "metadata": {},
     "output_type": "execute_result"
    }
   ],
   "source": [
    "os.getcwd()"
   ]
  },
  {
   "cell_type": "markdown",
   "metadata": {},
   "source": [
    "## Importing the dataset"
   ]
  },
  {
   "cell_type": "code",
   "execution_count": 5,
   "metadata": {},
   "outputs": [],
   "source": [
    "df = pd.read_excel(\"Abs.xls\")"
   ]
  },
  {
   "cell_type": "markdown",
   "metadata": {},
   "source": [
    "## Dimension check"
   ]
  },
  {
   "cell_type": "code",
   "execution_count": 6,
   "metadata": {},
   "outputs": [
    {
     "data": {
      "text/plain": [
       "(740, 21)"
      ]
     },
     "execution_count": 6,
     "metadata": {},
     "output_type": "execute_result"
    }
   ],
   "source": [
    "df.shape"
   ]
  },
  {
   "cell_type": "code",
   "execution_count": 7,
   "metadata": {},
   "outputs": [
    {
     "data": {
      "text/html": [
       "<div>\n",
       "<style scoped>\n",
       "    .dataframe tbody tr th:only-of-type {\n",
       "        vertical-align: middle;\n",
       "    }\n",
       "\n",
       "    .dataframe tbody tr th {\n",
       "        vertical-align: top;\n",
       "    }\n",
       "\n",
       "    .dataframe thead th {\n",
       "        text-align: right;\n",
       "    }\n",
       "</style>\n",
       "<table border=\"1\" class=\"dataframe\">\n",
       "  <thead>\n",
       "    <tr style=\"text-align: right;\">\n",
       "      <th></th>\n",
       "      <th>ID</th>\n",
       "      <th>Reason for absence</th>\n",
       "      <th>Month of absence</th>\n",
       "      <th>Day of the week</th>\n",
       "      <th>Seasons</th>\n",
       "      <th>Transportation expense</th>\n",
       "      <th>Distance from Residence to Work</th>\n",
       "      <th>Service time</th>\n",
       "      <th>Age</th>\n",
       "      <th>Work load Average/day</th>\n",
       "      <th>...</th>\n",
       "      <th>Disciplinary failure</th>\n",
       "      <th>Education</th>\n",
       "      <th>Son</th>\n",
       "      <th>Social drinker</th>\n",
       "      <th>Social smoker</th>\n",
       "      <th>Pet</th>\n",
       "      <th>Weight</th>\n",
       "      <th>Height</th>\n",
       "      <th>Body mass index</th>\n",
       "      <th>Absenteeism time in hours</th>\n",
       "    </tr>\n",
       "  </thead>\n",
       "  <tbody>\n",
       "    <tr>\n",
       "      <td>0</td>\n",
       "      <td>11</td>\n",
       "      <td>26.000</td>\n",
       "      <td>7.000</td>\n",
       "      <td>3</td>\n",
       "      <td>1</td>\n",
       "      <td>289.000</td>\n",
       "      <td>36.000</td>\n",
       "      <td>13.000</td>\n",
       "      <td>33.000</td>\n",
       "      <td>239554.000</td>\n",
       "      <td>...</td>\n",
       "      <td>0.000</td>\n",
       "      <td>1.000</td>\n",
       "      <td>2.000</td>\n",
       "      <td>1.000</td>\n",
       "      <td>0.000</td>\n",
       "      <td>1.000</td>\n",
       "      <td>90.000</td>\n",
       "      <td>172.000</td>\n",
       "      <td>30.000</td>\n",
       "      <td>4.000</td>\n",
       "    </tr>\n",
       "    <tr>\n",
       "      <td>1</td>\n",
       "      <td>36</td>\n",
       "      <td>0.000</td>\n",
       "      <td>7.000</td>\n",
       "      <td>3</td>\n",
       "      <td>1</td>\n",
       "      <td>118.000</td>\n",
       "      <td>13.000</td>\n",
       "      <td>18.000</td>\n",
       "      <td>50.000</td>\n",
       "      <td>239554.000</td>\n",
       "      <td>...</td>\n",
       "      <td>1.000</td>\n",
       "      <td>1.000</td>\n",
       "      <td>1.000</td>\n",
       "      <td>1.000</td>\n",
       "      <td>0.000</td>\n",
       "      <td>0.000</td>\n",
       "      <td>98.000</td>\n",
       "      <td>178.000</td>\n",
       "      <td>31.000</td>\n",
       "      <td>0.000</td>\n",
       "    </tr>\n",
       "    <tr>\n",
       "      <td>2</td>\n",
       "      <td>3</td>\n",
       "      <td>23.000</td>\n",
       "      <td>7.000</td>\n",
       "      <td>4</td>\n",
       "      <td>1</td>\n",
       "      <td>179.000</td>\n",
       "      <td>51.000</td>\n",
       "      <td>18.000</td>\n",
       "      <td>38.000</td>\n",
       "      <td>239554.000</td>\n",
       "      <td>...</td>\n",
       "      <td>0.000</td>\n",
       "      <td>1.000</td>\n",
       "      <td>0.000</td>\n",
       "      <td>1.000</td>\n",
       "      <td>0.000</td>\n",
       "      <td>0.000</td>\n",
       "      <td>89.000</td>\n",
       "      <td>170.000</td>\n",
       "      <td>31.000</td>\n",
       "      <td>2.000</td>\n",
       "    </tr>\n",
       "    <tr>\n",
       "      <td>3</td>\n",
       "      <td>7</td>\n",
       "      <td>7.000</td>\n",
       "      <td>7.000</td>\n",
       "      <td>5</td>\n",
       "      <td>1</td>\n",
       "      <td>279.000</td>\n",
       "      <td>5.000</td>\n",
       "      <td>14.000</td>\n",
       "      <td>39.000</td>\n",
       "      <td>239554.000</td>\n",
       "      <td>...</td>\n",
       "      <td>0.000</td>\n",
       "      <td>1.000</td>\n",
       "      <td>2.000</td>\n",
       "      <td>1.000</td>\n",
       "      <td>1.000</td>\n",
       "      <td>0.000</td>\n",
       "      <td>68.000</td>\n",
       "      <td>168.000</td>\n",
       "      <td>24.000</td>\n",
       "      <td>4.000</td>\n",
       "    </tr>\n",
       "    <tr>\n",
       "      <td>4</td>\n",
       "      <td>11</td>\n",
       "      <td>23.000</td>\n",
       "      <td>7.000</td>\n",
       "      <td>5</td>\n",
       "      <td>1</td>\n",
       "      <td>289.000</td>\n",
       "      <td>36.000</td>\n",
       "      <td>13.000</td>\n",
       "      <td>33.000</td>\n",
       "      <td>239554.000</td>\n",
       "      <td>...</td>\n",
       "      <td>0.000</td>\n",
       "      <td>1.000</td>\n",
       "      <td>2.000</td>\n",
       "      <td>1.000</td>\n",
       "      <td>0.000</td>\n",
       "      <td>1.000</td>\n",
       "      <td>90.000</td>\n",
       "      <td>172.000</td>\n",
       "      <td>30.000</td>\n",
       "      <td>2.000</td>\n",
       "    </tr>\n",
       "  </tbody>\n",
       "</table>\n",
       "<p>5 rows × 21 columns</p>\n",
       "</div>"
      ],
      "text/plain": [
       "   ID  Reason for absence  Month of absence  Day of the week  Seasons  \\\n",
       "0  11              26.000             7.000                3        1   \n",
       "1  36               0.000             7.000                3        1   \n",
       "2   3              23.000             7.000                4        1   \n",
       "3   7               7.000             7.000                5        1   \n",
       "4  11              23.000             7.000                5        1   \n",
       "\n",
       "   Transportation expense  Distance from Residence to Work  Service time  \\\n",
       "0                 289.000                           36.000        13.000   \n",
       "1                 118.000                           13.000        18.000   \n",
       "2                 179.000                           51.000        18.000   \n",
       "3                 279.000                            5.000        14.000   \n",
       "4                 289.000                           36.000        13.000   \n",
       "\n",
       "     Age  Work load Average/day   ...  Disciplinary failure  Education   Son  \\\n",
       "0 33.000              239554.000  ...                 0.000      1.000 2.000   \n",
       "1 50.000              239554.000  ...                 1.000      1.000 1.000   \n",
       "2 38.000              239554.000  ...                 0.000      1.000 0.000   \n",
       "3 39.000              239554.000  ...                 0.000      1.000 2.000   \n",
       "4 33.000              239554.000  ...                 0.000      1.000 2.000   \n",
       "\n",
       "   Social drinker  Social smoker   Pet  Weight  Height  Body mass index  \\\n",
       "0           1.000          0.000 1.000  90.000 172.000           30.000   \n",
       "1           1.000          0.000 0.000  98.000 178.000           31.000   \n",
       "2           1.000          0.000 0.000  89.000 170.000           31.000   \n",
       "3           1.000          1.000 0.000  68.000 168.000           24.000   \n",
       "4           1.000          0.000 1.000  90.000 172.000           30.000   \n",
       "\n",
       "   Absenteeism time in hours  \n",
       "0                      4.000  \n",
       "1                      0.000  \n",
       "2                      2.000  \n",
       "3                      4.000  \n",
       "4                      2.000  \n",
       "\n",
       "[5 rows x 21 columns]"
      ]
     },
     "execution_count": 7,
     "metadata": {},
     "output_type": "execute_result"
    }
   ],
   "source": [
    "df.head()"
   ]
  },
  {
   "cell_type": "markdown",
   "metadata": {},
   "source": [
    "## Check for uniqueness"
   ]
  },
  {
   "cell_type": "code",
   "execution_count": 8,
   "metadata": {},
   "outputs": [
    {
     "data": {
      "text/plain": [
       "8.000      199\n",
       "2.000      155\n",
       "3.000      110\n",
       "1.000       88\n",
       "4.000       60\n",
       "0.000       36\n",
       "16.000      19\n",
       "24.000      16\n",
       "40.000       7\n",
       "5.000        7\n",
       "32.000       5\n",
       "64.000       3\n",
       "80.000       3\n",
       "120.000      3\n",
       "56.000       2\n",
       "112.000      2\n",
       "104.000      1\n",
       "7.000        1\n",
       "48.000       1\n",
       "Name: Absenteeism time in hours, dtype: int64"
      ]
     },
     "execution_count": 8,
     "metadata": {},
     "output_type": "execute_result"
    }
   ],
   "source": [
    "df['Absenteeism time in hours'].value_counts()"
   ]
  },
  {
   "cell_type": "markdown",
   "metadata": {},
   "source": [
    "# Datatypes of each column"
   ]
  },
  {
   "cell_type": "code",
   "execution_count": 9,
   "metadata": {},
   "outputs": [
    {
     "data": {
      "text/plain": [
       "ID                                   int64\n",
       "Reason for absence                 float64\n",
       "Month of absence                   float64\n",
       "Day of the week                      int64\n",
       "Seasons                              int64\n",
       "Transportation expense             float64\n",
       "Distance from Residence to Work    float64\n",
       "Service time                       float64\n",
       "Age                                float64\n",
       "Work load Average/day              float64\n",
       "Hit target                         float64\n",
       "Disciplinary failure               float64\n",
       "Education                          float64\n",
       "Son                                float64\n",
       "Social drinker                     float64\n",
       "Social smoker                      float64\n",
       "Pet                                float64\n",
       "Weight                             float64\n",
       "Height                             float64\n",
       "Body mass index                    float64\n",
       "Absenteeism time in hours          float64\n",
       "dtype: object"
      ]
     },
     "execution_count": 9,
     "metadata": {},
     "output_type": "execute_result"
    }
   ],
   "source": [
    "df.dtypes"
   ]
  },
  {
   "cell_type": "markdown",
   "metadata": {},
   "source": [
    "## Missing value analysis"
   ]
  },
  {
   "cell_type": "code",
   "execution_count": 10,
   "metadata": {},
   "outputs": [
    {
     "name": "stdout",
     "output_type": "stream",
     "text": [
      "                          variables  Missing_Percentage\n",
      "0                                ID               0.000\n",
      "1                Reason for absence               0.405\n",
      "2                  Month of absence               0.135\n",
      "3                   Day of the week               0.000\n",
      "4                           Seasons               0.000\n",
      "5            Transportation expense               0.946\n",
      "6   Distance from Residence to Work               0.405\n",
      "7                      Service time               0.405\n",
      "8                               Age               0.405\n",
      "9            Work load Average/day                1.351\n",
      "10                       Hit target               0.811\n",
      "11             Disciplinary failure               0.811\n",
      "12                        Education               1.351\n",
      "13                              Son               0.811\n",
      "14                   Social drinker               0.405\n",
      "15                    Social smoker               0.541\n",
      "16                              Pet               0.270\n",
      "17                           Weight               0.135\n",
      "18                           Height               1.892\n",
      "19                  Body mass index               4.189\n",
      "20        Absenteeism time in hours               2.973\n"
     ]
    }
   ],
   "source": [
    "import pandas as pd\n",
    "missing_val = pd.DataFrame(df.isnull().sum())\n",
    "missing_val = missing_val.reset_index()\n",
    "missing_val = missing_val.rename(columns = {'index':'variables',0:'Missing_Percentage'})\n",
    "missing_val['Missing_Percentage'] = (missing_val['Missing_Percentage']/len(df))*100\n",
    "print(missing_val)"
   ]
  },
  {
   "cell_type": "markdown",
   "metadata": {},
   "source": [
    "## Imputing missing values with the help of median"
   ]
  },
  {
   "cell_type": "code",
   "execution_count": 11,
   "metadata": {},
   "outputs": [],
   "source": [
    "df['Reason for absence'] = df['Reason for absence'].fillna(df['Reason for absence'].median())\n",
    "df['Month of absence'] = df['Month of absence'].fillna(df['Month of absence'].median())\n",
    "df['Transportation expense'] = df['Transportation expense'].fillna(df['Transportation expense'].median())\n",
    "df['Distance from Residence to Work'] = df['Distance from Residence to Work'].fillna(df['Distance from Residence to Work'].median())\n",
    "df['Service time'] = df['Service time'].fillna(df['Service time'].median())\n",
    "df['Age'] = df['Age'].fillna(df['Age'].median())\n",
    "df['Work load Average/day '] = df['Work load Average/day '].fillna(df['Work load Average/day '].median())\n",
    "df['Hit target'] = df['Hit target'].fillna(df['Hit target'].median())\n",
    "df['Disciplinary failure'] = df['Disciplinary failure'].fillna(df['Disciplinary failure'].median())\n",
    "df['Education'] = df['Education'].fillna(df['Education'].median())\n",
    "df['Social drinker'] = df['Social drinker'].fillna(df['Social drinker'].median())\n",
    "df['Social smoker'] = df['Social smoker'].fillna(df['Social smoker'].median())\n",
    "df['Son'] = df['Son'].fillna(df['Son'].median())\n",
    "df['Pet'] = df['Pet'].fillna(df['Pet'].median())\n",
    "df['Height'] = df['Height'].fillna(df['Height'].median())\n",
    "df['Weight'] = df['Weight'].fillna(df['Weight'].median())\n",
    "df['Body mass index'] = df['Body mass index'].fillna(df['Body mass index'].mean())\n",
    "df['Absenteeism time in hours'] =df['Absenteeism time in hours'].fillna(df['Absenteeism time in hours'].median())\n",
    "df.isnull().sum()\n",
    "data =df.copy()\n",
    "df['ID'] = df['ID'].astype('category')\n",
    "df['Reason for absence'] = df['Reason for absence'].astype('category')\n",
    "df['Month of absence'] = df['Month of absence'].astype('category')\n",
    "df['Day of the week'] = df['Day of the week'].astype('category')\n",
    "df['Seasons'] = df['Seasons'].astype('category')\n",
    "df['Disciplinary failure'] = df['Disciplinary failure'].astype('category')\n",
    "df['Education'] = df['Education'].astype('category')\n",
    "df['Social drinker'] = df['Social drinker'].astype('category')\n",
    "df['Social smoker'] = df['Social smoker'].astype('category')\n"
   ]
  },
  {
   "cell_type": "markdown",
   "metadata": {},
   "source": [
    "## Outlier Analysis"
   ]
  },
  {
   "cell_type": "code",
   "execution_count": 12,
   "metadata": {},
   "outputs": [
    {
     "data": {
      "text/plain": [
       "{'whiskers': [<matplotlib.lines.Line2D at 0x1a1c2983d48>,\n",
       "  <matplotlib.lines.Line2D at 0x1a1c2983c48>],\n",
       " 'caps': [<matplotlib.lines.Line2D at 0x1a1c2983ec8>,\n",
       "  <matplotlib.lines.Line2D at 0x1a1c286efc8>],\n",
       " 'boxes': [<matplotlib.lines.Line2D at 0x1a1c2983408>],\n",
       " 'medians': [<matplotlib.lines.Line2D at 0x1a1c286ef48>],\n",
       " 'fliers': [<matplotlib.lines.Line2D at 0x1a1c28749c8>],\n",
       " 'means': []}"
      ]
     },
     "execution_count": 12,
     "metadata": {},
     "output_type": "execute_result"
    },
    {
     "data": {
      "image/png": "[encoded data removed]",
      "text/plain": [
       "<Figure size 432x288 with 1 Axes>"
      ]
     },
     "metadata": {
      "needs_background": "light"
     },
     "output_type": "display_data"
    }
   ],
   "source": [
    "get_ipython().run_line_magic('matplotlib', 'inline')\n",
    "plt.boxplot(df['Transportation expense'])"
   ]
  },
  {
   "cell_type": "code",
   "execution_count": 13,
   "metadata": {},
   "outputs": [
    {
     "data": {
      "text/plain": [
       "{'whiskers': [<matplotlib.lines.Line2D at 0x1a1c2ba5448>,\n",
       "  <matplotlib.lines.Line2D at 0x1a1c2b9ee08>],\n",
       " 'caps': [<matplotlib.lines.Line2D at 0x1a1c2ba5f48>,\n",
       "  <matplotlib.lines.Line2D at 0x1a1c2ba5ec8>],\n",
       " 'boxes': [<matplotlib.lines.Line2D at 0x1a1c2b9eb88>],\n",
       " 'medians': [<matplotlib.lines.Line2D at 0x1a1c2ba9a48>],\n",
       " 'fliers': [<matplotlib.lines.Line2D at 0x1a1c2ba9dc8>],\n",
       " 'means': []}"
      ]
     },
     "execution_count": 13,
     "metadata": {},
     "output_type": "execute_result"
    },
    {
     "data": {
      "image/png": "[encoded data removed]",
      "text/plain": [
       "<Figure size 432x288 with 1 Axes>"
      ]
     },
     "metadata": {
      "needs_background": "light"
     },
     "output_type": "display_data"
    }
   ],
   "source": [
    "plt.boxplot(df['Distance from Residence to Work'])\n"
   ]
  },
  {
   "cell_type": "code",
   "execution_count": 14,
   "metadata": {},
   "outputs": [
    {
     "data": {
      "text/plain": [
       "{'whiskers': [<matplotlib.lines.Line2D at 0x1a1c2c089c8>,\n",
       "  <matplotlib.lines.Line2D at 0x1a1c2c08f48>],\n",
       " 'caps': [<matplotlib.lines.Line2D at 0x1a1c2c08ec8>,\n",
       "  <matplotlib.lines.Line2D at 0x1a1c2c0da48>],\n",
       " 'boxes': [<matplotlib.lines.Line2D at 0x1a1c2c08208>],\n",
       " 'medians': [<matplotlib.lines.Line2D at 0x1a1c2c0dfc8>],\n",
       " 'fliers': [<matplotlib.lines.Line2D at 0x1a1c2c0df48>],\n",
       " 'means': []}"
      ]
     },
     "execution_count": 14,
     "metadata": {},
     "output_type": "execute_result"
    },
    {
     "data": {
      "image/png": "[encoded data removed]",
      "text/plain": [
       "<Figure size 432x288 with 1 Axes>"
      ]
     },
     "metadata": {
      "needs_background": "light"
     },
     "output_type": "display_data"
    }
   ],
   "source": [
    "plt.boxplot(df['Service time'])\n",
    "\n"
   ]
  },
  {
   "cell_type": "code",
   "execution_count": 15,
   "metadata": {},
   "outputs": [
    {
     "data": {
      "text/plain": [
       "{'whiskers': [<matplotlib.lines.Line2D at 0x1a1c2c76c48>,\n",
       "  <matplotlib.lines.Line2D at 0x1a1c2c76bc8>],\n",
       " 'caps': [<matplotlib.lines.Line2D at 0x1a1c2c79c08>,\n",
       "  <matplotlib.lines.Line2D at 0x1a1c2c79b88>],\n",
       " 'boxes': [<matplotlib.lines.Line2D at 0x1a1c2c76208>],\n",
       " 'medians': [<matplotlib.lines.Line2D at 0x1a1c2c7eb88>],\n",
       " 'fliers': [<matplotlib.lines.Line2D at 0x1a1c2c7ec48>],\n",
       " 'means': []}"
      ]
     },
     "execution_count": 15,
     "metadata": {},
     "output_type": "execute_result"
    },
    {
     "data": {
      "image/png": "[encoded data removed]",
      "text/plain": [
       "<Figure size 432x288 with 1 Axes>"
      ]
     },
     "metadata": {
      "needs_background": "light"
     },
     "output_type": "display_data"
    }
   ],
   "source": [
    "plt.boxplot(df['Age'])\n"
   ]
  },
  {
   "cell_type": "code",
   "execution_count": 16,
   "metadata": {},
   "outputs": [
    {
     "data": {
      "text/plain": [
       "{'whiskers': [<matplotlib.lines.Line2D at 0x1a1c2ce27c8>,\n",
       "  <matplotlib.lines.Line2D at 0x1a1c2ce2f88>],\n",
       " 'caps': [<matplotlib.lines.Line2D at 0x1a1c2ce2f08>,\n",
       "  <matplotlib.lines.Line2D at 0x1a1c2ce6f08>],\n",
       " 'boxes': [<matplotlib.lines.Line2D at 0x1a1c2cddd48>],\n",
       " 'medians': [<matplotlib.lines.Line2D at 0x1a1c2ce6e88>],\n",
       " 'fliers': [<matplotlib.lines.Line2D at 0x1a1c2cedc48>],\n",
       " 'means': []}"
      ]
     },
     "execution_count": 16,
     "metadata": {},
     "output_type": "execute_result"
    },
    {
     "data": {
      "image/png": "[encoded data removed]",
      "text/plain": [
       "<Figure size 432x288 with 1 Axes>"
      ]
     },
     "metadata": {
      "needs_background": "light"
     },
     "output_type": "display_data"
    }
   ],
   "source": [
    "plt.boxplot(df['Work load Average/day '])\n"
   ]
  },
  {
   "cell_type": "code",
   "execution_count": 17,
   "metadata": {},
   "outputs": [
    {
     "data": {
      "text/plain": [
       "{'whiskers': [<matplotlib.lines.Line2D at 0x1a1c2d4ecc8>,\n",
       "  <matplotlib.lines.Line2D at 0x1a1c2d4ec48>],\n",
       " 'caps': [<matplotlib.lines.Line2D at 0x1a1c2ca3c88>,\n",
       "  <matplotlib.lines.Line2D at 0x1a1c2ca3c08>],\n",
       " 'boxes': [<matplotlib.lines.Line2D at 0x1a1c2d4e288>],\n",
       " 'medians': [<matplotlib.lines.Line2D at 0x1a1c2d58c08>],\n",
       " 'fliers': [<matplotlib.lines.Line2D at 0x1a1c2d58cc8>],\n",
       " 'means': []}"
      ]
     },
     "execution_count": 17,
     "metadata": {},
     "output_type": "execute_result"
    },
    {
     "data": {
      "image/png": "[encoded data removed]",
      "text/plain": [
       "<Figure size 432x288 with 1 Axes>"
      ]
     },
     "metadata": {
      "needs_background": "light"
     },
     "output_type": "display_data"
    }
   ],
   "source": [
    "plt.boxplot(df['Hit target'])\n"
   ]
  },
  {
   "cell_type": "code",
   "execution_count": 18,
   "metadata": {},
   "outputs": [
    {
     "data": {
      "text/plain": [
       "{'whiskers': [<matplotlib.lines.Line2D at 0x1a1c2dbd708>,\n",
       "  <matplotlib.lines.Line2D at 0x1a1c2dbde88>],\n",
       " 'caps': [<matplotlib.lines.Line2D at 0x1a1c2dbde08>,\n",
       "  <matplotlib.lines.Line2D at 0x1a1c2dc2e08>],\n",
       " 'boxes': [<matplotlib.lines.Line2D at 0x1a1c2db8c88>],\n",
       " 'medians': [<matplotlib.lines.Line2D at 0x1a1c2dc2d88>],\n",
       " 'fliers': [<matplotlib.lines.Line2D at 0x1a1c2dc8c08>],\n",
       " 'means': []}"
      ]
     },
     "execution_count": 18,
     "metadata": {},
     "output_type": "execute_result"
    },
    {
     "data": {
      "image/png": "[encoded data removed]",
      "text/plain": [
       "<Figure size 432x288 with 1 Axes>"
      ]
     },
     "metadata": {
      "needs_background": "light"
     },
     "output_type": "display_data"
    }
   ],
   "source": [
    "plt.boxplot(df['Son'])\n"
   ]
  },
  {
   "cell_type": "code",
   "execution_count": 19,
   "metadata": {},
   "outputs": [
    {
     "data": {
      "text/plain": [
       "{'whiskers': [<matplotlib.lines.Line2D at 0x1a1c2e2e888>,\n",
       "  <matplotlib.lines.Line2D at 0x1a1c2e2efc8>],\n",
       " 'caps': [<matplotlib.lines.Line2D at 0x1a1c2e2ef88>,\n",
       "  <matplotlib.lines.Line2D at 0x1a1c2e31f88>],\n",
       " 'boxes': [<matplotlib.lines.Line2D at 0x1a1c2e28dc8>],\n",
       " 'medians': [<matplotlib.lines.Line2D at 0x1a1c2e31f08>],\n",
       " 'fliers': [<matplotlib.lines.Line2D at 0x1a1c2e37e88>],\n",
       " 'means': []}"
      ]
     },
     "execution_count": 19,
     "metadata": {},
     "output_type": "execute_result"
    },
    {
     "data": {
      "image/png": "[encoded data removed]",
      "text/plain": [
       "<Figure size 432x288 with 1 Axes>"
      ]
     },
     "metadata": {
      "needs_background": "light"
     },
     "output_type": "display_data"
    }
   ],
   "source": [
    "plt.boxplot(df['Pet'])\n"
   ]
  },
  {
   "cell_type": "code",
   "execution_count": 20,
   "metadata": {},
   "outputs": [
    {
     "data": {
      "text/plain": [
       "{'whiskers': [<matplotlib.lines.Line2D at 0x1a1c2e9da48>,\n",
       "  <matplotlib.lines.Line2D at 0x1a1c2e9d9c8>],\n",
       " 'caps': [<matplotlib.lines.Line2D at 0x1a1c2ea2a08>,\n",
       "  <matplotlib.lines.Line2D at 0x1a1c2ea2988>],\n",
       " 'boxes': [<matplotlib.lines.Line2D at 0x1a1c2e99fc8>],\n",
       " 'medians': [<matplotlib.lines.Line2D at 0x1a1c2ea5a48>],\n",
       " 'fliers': [<matplotlib.lines.Line2D at 0x1a1c2ea5b08>],\n",
       " 'means': []}"
      ]
     },
     "execution_count": 20,
     "metadata": {},
     "output_type": "execute_result"
    },
    {
     "data": {
      "image/png": "[encoded data removed]",
      "text/plain": [
       "<Figure size 432x288 with 1 Axes>"
      ]
     },
     "metadata": {
      "needs_background": "light"
     },
     "output_type": "display_data"
    }
   ],
   "source": [
    "plt.boxplot(df['Weight'])\n"
   ]
  },
  {
   "cell_type": "code",
   "execution_count": 21,
   "metadata": {},
   "outputs": [
    {
     "data": {
      "text/plain": [
       "{'whiskers': [<matplotlib.lines.Line2D at 0x1a1c2f06548>,\n",
       "  <matplotlib.lines.Line2D at 0x1a1c2f06d08>],\n",
       " 'caps': [<matplotlib.lines.Line2D at 0x1a1c2f06c88>,\n",
       "  <matplotlib.lines.Line2D at 0x1a1c2f0ac88>],\n",
       " 'boxes': [<matplotlib.lines.Line2D at 0x1a1c2f00ac8>],\n",
       " 'medians': [<matplotlib.lines.Line2D at 0x1a1c2f0ac08>],\n",
       " 'fliers': [<matplotlib.lines.Line2D at 0x1a1c2f0f9c8>],\n",
       " 'means': []}"
      ]
     },
     "execution_count": 21,
     "metadata": {},
     "output_type": "execute_result"
    },
    {
     "data": {
      "image/png": "[encoded data removed]",
      "text/plain": [
       "<Figure size 432x288 with 1 Axes>"
      ]
     },
     "metadata": {
      "needs_background": "light"
     },
     "output_type": "display_data"
    }
   ],
   "source": [
    "plt.boxplot(df['Height'])\n"
   ]
  },
  {
   "cell_type": "code",
   "execution_count": 22,
   "metadata": {},
   "outputs": [
    {
     "data": {
      "text/plain": [
       "{'whiskers': [<matplotlib.lines.Line2D at 0x1a1c3f42448>,\n",
       "  <matplotlib.lines.Line2D at 0x1a1c3f42c08>],\n",
       " 'caps': [<matplotlib.lines.Line2D at 0x1a1c3f42b88>,\n",
       "  <matplotlib.lines.Line2D at 0x1a1c3f45b88>],\n",
       " 'boxes': [<matplotlib.lines.Line2D at 0x1a1c3f3e9c8>],\n",
       " 'medians': [<matplotlib.lines.Line2D at 0x1a1c3f45b08>],\n",
       " 'fliers': [<matplotlib.lines.Line2D at 0x1a1c3f488c8>],\n",
       " 'means': []}"
      ]
     },
     "execution_count": 22,
     "metadata": {},
     "output_type": "execute_result"
    },
    {
     "data": {
      "image/png": "[encoded data removed]",
      "text/plain": [
       "<Figure size 432x288 with 1 Axes>"
      ]
     },
     "metadata": {
      "needs_background": "light"
     },
     "output_type": "display_data"
    }
   ],
   "source": [
    "plt.boxplot(df['Body mass index'])"
   ]
  },
  {
   "cell_type": "code",
   "execution_count": 23,
   "metadata": {},
   "outputs": [
    {
     "data": {
      "text/plain": [
       "{'whiskers': [<matplotlib.lines.Line2D at 0x1a1c3faeac8>,\n",
       "  <matplotlib.lines.Line2D at 0x1a1c3faea48>],\n",
       " 'caps': [<matplotlib.lines.Line2D at 0x1a1c3fb3a88>,\n",
       "  <matplotlib.lines.Line2D at 0x1a1c3fb3a08>],\n",
       " 'boxes': [<matplotlib.lines.Line2D at 0x1a1c3faaf88>],\n",
       " 'medians': [<matplotlib.lines.Line2D at 0x1a1c3fb8a08>],\n",
       " 'fliers': [<matplotlib.lines.Line2D at 0x1a1c3fb8f48>],\n",
       " 'means': []}"
      ]
     },
     "execution_count": 23,
     "metadata": {},
     "output_type": "execute_result"
    },
    {
     "data": {
      "image/png": "[encoded data removed]",
      "text/plain": [
       "<Figure size 432x288 with 1 Axes>"
      ]
     },
     "metadata": {
      "needs_background": "light"
     },
     "output_type": "display_data"
    }
   ],
   "source": [
    "plt.boxplot(df['Absenteeism time in hours'])"
   ]
  },
  {
   "cell_type": "code",
   "execution_count": 24,
   "metadata": {},
   "outputs": [
    {
     "name": "stdout",
     "output_type": "stream",
     "text": [
      "ID\n",
      "-3.5\n",
      "40.5\n",
      "Reason for absence\n",
      "12.124999999999943\n",
      "29.525000000000034\n",
      "Month of absence\n",
      "-2.0\n",
      "14.0\n",
      "Day of the week\n",
      "0.0\n",
      "8.0\n",
      "Seasons\n",
      "0.5\n",
      "4.5\n",
      "Transportation expense\n",
      "95.0\n",
      "319.0\n",
      "Distance from Residence to Work\n",
      "16.0\n",
      "40.0\n",
      "Service time\n",
      "6.5\n",
      "18.5\n",
      "Age\n",
      "25.5\n",
      "45.5\n",
      "Work load Average/day \n",
      "216911.5\n",
      "309995.5\n",
      "Hit target\n",
      "87.0\n",
      "103.0\n",
      "Disciplinary failure\n",
      "0.0\n",
      "0.0\n",
      "Education\n",
      "1.0\n",
      "1.0\n",
      "Son\n",
      "-1.5\n",
      "2.5\n",
      "Social drinker\n",
      "-1.5\n",
      "2.5\n",
      "Social smoker\n",
      "0.0\n",
      "0.0\n",
      "Pet\n",
      "-1.5\n",
      "2.5\n",
      "Weight\n",
      "40.5\n",
      "116.5\n",
      "Height\n",
      "167.0\n",
      "175.0\n",
      "Body mass index\n",
      "20.5\n",
      "32.5\n",
      "Absenteeism time in hours\n",
      "-7.0\n",
      "17.0\n"
     ]
    }
   ],
   "source": [
    "for i in df :\n",
    "    print(i)\n",
    "    q65,q35 = np.percentile(df.loc[:,i],[65,35])\n",
    "    iqr = q65 - q35\n",
    "    min = q35 - (iqr*1.5)\n",
    "    max = q65 + (iqr*1.5)\n",
    "    \n",
    "    print(min)\n",
    "    print(max)"
   ]
  },
  {
   "cell_type": "markdown",
   "metadata": {},
   "source": [
    "## Calculating the min & max values"
   ]
  },
  {
   "cell_type": "code",
   "execution_count": 25,
   "metadata": {},
   "outputs": [
    {
     "name": "stdout",
     "output_type": "stream",
     "text": [
      "95.0\n",
      "319.0\n"
     ]
    }
   ],
   "source": [
    "q65,q35 = np.percentile(df['Transportation expense'],[65,35])\n",
    "iqr = q65 - q35\n",
    "min1= q35 - (iqr*1.5)\n",
    "max1 = q65 + (iqr*1.5)\n",
    "print(min1)\n",
    "print(max1)"
   ]
  },
  {
   "cell_type": "code",
   "execution_count": 26,
   "metadata": {},
   "outputs": [
    {
     "name": "stdout",
     "output_type": "stream",
     "text": [
      "25.5\n",
      "45.5\n"
     ]
    }
   ],
   "source": [
    "q65,q35 = np.percentile(df['Age'],[65,35])\n",
    "iqr = q65 - q35\n",
    "min2 = q35 - (iqr*1.5)\n",
    "max2 = q65 + (iqr*1.5)\n",
    "print(min2)\n",
    "print(max2)"
   ]
  },
  {
   "cell_type": "code",
   "execution_count": 27,
   "metadata": {},
   "outputs": [
    {
     "name": "stdout",
     "output_type": "stream",
     "text": [
      "6.5\n",
      "18.5\n"
     ]
    }
   ],
   "source": [
    "q65,q35 = np.percentile(df['Service time'],[65,35])\n",
    "iqr = q65 - q35\n",
    "min3= q35 - (iqr*1.5)\n",
    "max3 = q65 + (iqr*1.5)\n",
    "print(min3)\n",
    "print(max3)"
   ]
  },
  {
   "cell_type": "code",
   "execution_count": 28,
   "metadata": {},
   "outputs": [
    {
     "name": "stdout",
     "output_type": "stream",
     "text": [
      "-412606.0\n",
      "687706.0\n"
     ]
    }
   ],
   "source": [
    "q65,q25 = np.percentile(df['Work load Average/day '],[65,35])\n",
    "iqr = q65 - q35\n",
    "min4 = q35 - (iqr*1.5)\n",
    "max4 = q65 + (iqr*1.5)\n",
    "print(min4)\n",
    "print(max4)"
   ]
  },
  {
   "cell_type": "code",
   "execution_count": 29,
   "metadata": {},
   "outputs": [
    {
     "name": "stdout",
     "output_type": "stream",
     "text": [
      "87.0\n",
      "103.0\n"
     ]
    }
   ],
   "source": [
    "q65,q35 = np.percentile(df['Hit target'],[65,35])\n",
    "iqr = q65 - q35\n",
    "min5 = q35 - (iqr*1.5)\n",
    "max5 = q65 + (iqr*1.5)\n",
    "print(min5)\n",
    "print(max5)"
   ]
  },
  {
   "cell_type": "code",
   "execution_count": 30,
   "metadata": {},
   "outputs": [
    {
     "name": "stdout",
     "output_type": "stream",
     "text": [
      "-1.5\n",
      "2.5\n"
     ]
    }
   ],
   "source": [
    "q65,q35 = np.percentile(df['Pet'],[65,35])\n",
    "iqr = q65 - q35\n",
    "min6 = q35 - (iqr*1.5)\n",
    "max6 = q65 + (iqr*1.5)\n",
    "print(min6)\n",
    "print(max6)"
   ]
  },
  {
   "cell_type": "code",
   "execution_count": 31,
   "metadata": {},
   "outputs": [
    {
     "name": "stdout",
     "output_type": "stream",
     "text": [
      "167.0\n",
      "175.0\n"
     ]
    }
   ],
   "source": [
    "q65,q35 = np.percentile(df['Height'],[65,35])\n",
    "iqr = q65 - q35\n",
    "min7 = q35 - (iqr*1.5)\n",
    "max7 = q65 + (iqr*1.5)\n",
    "print(min7)\n",
    "print(max7)"
   ]
  },
  {
   "cell_type": "markdown",
   "metadata": {},
   "source": [
    "## Imputing outliers values with median"
   ]
  },
  {
   "cell_type": "code",
   "execution_count": 32,
   "metadata": {},
   "outputs": [],
   "source": [
    "df['Transportation expense'] = df['Transportation expense'].fillna(df['Transportation expense'].median())\n",
    "df['Age'] = df['Age'].fillna(df['Age'].median())\n",
    "df['Work load Average/day '] = df['Work load Average/day '].fillna(df['Work load Average/day '].median())\n",
    "df['Hit target'] = df['Hit target'].fillna(df['Hit target'].median())\n",
    "df['Service time'] = df['Service time'].fillna(df['Service time'].median())\n",
    "df['Pet'] = df['Pet'].fillna(df['Pet'].median())\n",
    "df['Height'] = df['Height'].fillna(df['Height'].median())\n",
    "df['Absenteeism time in hours'] =df['Absenteeism time in hours'].fillna(df['Absenteeism time in hours'].median())\n"
   ]
  },
  {
   "cell_type": "markdown",
   "metadata": {},
   "source": [
    "## Copying data in new object \"data\""
   ]
  },
  {
   "cell_type": "code",
   "execution_count": 33,
   "metadata": {},
   "outputs": [],
   "source": [
    "df['ID'] = data['ID']\n",
    "df['Reason for absence'] = data['Reason for absence']\n",
    "df['Month of absence'] = data['Month of absence']\n",
    "df['Day of the week'] = data['Day of the week']\n",
    "df['Seasons'] = data['Seasons']\n",
    "df['Distance from Residence to Work'] = data['Distance from Residence to Work']\n",
    "df['Disciplinary failure'] = data['Disciplinary failure']\n",
    "df['Education'] = data['Education']\n",
    "df['Son'] = data['Son']\n",
    "df['Social drinker'] = data['Social drinker']\n",
    "df['Social smoker'] = data['Social smoker']\n",
    "df['Weight'] = data['Weight']\n",
    "df['Body mass index'] = data ['Body mass index']"
   ]
  },
  {
   "cell_type": "markdown",
   "metadata": {},
   "source": [
    "## Checking missing values after outlier analysis"
   ]
  },
  {
   "cell_type": "code",
   "execution_count": 34,
   "metadata": {},
   "outputs": [
    {
     "name": "stdout",
     "output_type": "stream",
     "text": [
      "                                 0\n",
      "ID                               0\n",
      "Reason for absence               0\n",
      "Month of absence                 0\n",
      "Day of the week                  0\n",
      "Seasons                          0\n",
      "Transportation expense           0\n",
      "Distance from Residence to Work  0\n",
      "Service time                     0\n",
      "Age                              0\n",
      "Work load Average/day            0\n",
      "Hit target                       0\n",
      "Disciplinary failure             0\n",
      "Education                        0\n",
      "Son                              0\n",
      "Social drinker                   0\n",
      "Social smoker                    0\n",
      "Pet                              0\n",
      "Weight                           0\n",
      "Height                           0\n",
      "Body mass index                  0\n",
      "Absenteeism time in hours        0\n"
     ]
    }
   ],
   "source": [
    "missval = pd.DataFrame(df.isnull().sum())\n",
    "print(missval)"
   ]
  },
  {
   "cell_type": "markdown",
   "metadata": {},
   "source": [
    "## Converting data in proper data types"
   ]
  },
  {
   "cell_type": "code",
   "execution_count": 35,
   "metadata": {},
   "outputs": [],
   "source": [
    "df['ID'] = df['ID'].astype('category')\n",
    "df['Reason for absence'] = df['Reason for absence'].astype('category')\n",
    "df['Month of absence'] = df['Month of absence'].astype('category')\n",
    "df['Day of the week'] = df['Day of the week'].astype('category')\n",
    "df['Seasons'] = df['Seasons'].astype('category')\n",
    "df['Disciplinary failure'] = df['Disciplinary failure'].astype('category')\n",
    "df['Education'] = df['Education'].astype('category')\n",
    "df['Social drinker'] = df['Social drinker'].astype('category')\n",
    "df['Social smoker'] = df['Social smoker'].astype('category')"
   ]
  },
  {
   "cell_type": "markdown",
   "metadata": {},
   "source": [
    "## Feature Selection"
   ]
  },
  {
   "cell_type": "code",
   "execution_count": 36,
   "metadata": {},
   "outputs": [
    {
     "name": "stdout",
     "output_type": "stream",
     "text": [
      "     Transportation expense  Distance from Residence to Work  Service time  \\\n",
      "0                   289.000                           36.000        13.000   \n",
      "1                   118.000                           13.000        18.000   \n",
      "2                   179.000                           51.000        18.000   \n",
      "3                   279.000                            5.000        14.000   \n",
      "4                   289.000                           36.000        13.000   \n",
      "..                      ...                              ...           ...   \n",
      "735                 289.000                           36.000        13.000   \n",
      "736                 235.000                           11.000        14.000   \n",
      "737                 118.000                           14.000        13.000   \n",
      "738                 231.000                           35.000        14.000   \n",
      "739                 179.000                           45.000        14.000   \n",
      "\n",
      "       Age  Work load Average/day   Hit target   Son   Pet  Weight  Height  \\\n",
      "0   33.000              239554.000      97.000 2.000 1.000  90.000 172.000   \n",
      "1   50.000              239554.000      97.000 1.000 0.000  98.000 178.000   \n",
      "2   38.000              239554.000      97.000 0.000 0.000  89.000 170.000   \n",
      "3   39.000              239554.000      97.000 2.000 0.000  68.000 168.000   \n",
      "4   33.000              239554.000      97.000 2.000 1.000  90.000 172.000   \n",
      "..     ...                     ...         ...   ...   ...     ...     ...   \n",
      "735 33.000              264604.000      93.000 2.000 1.000  90.000 172.000   \n",
      "736 37.000              264604.000      93.000 1.000 1.000  88.000 172.000   \n",
      "737 40.000              271219.000      95.000 1.000 8.000  98.000 170.000   \n",
      "738 39.000              271219.000      95.000 2.000 2.000 100.000 170.000   \n",
      "739 53.000              271219.000      95.000 1.000 1.000  77.000 175.000   \n",
      "\n",
      "     Body mass index  Absenteeism time in hours  \n",
      "0             30.000                      4.000  \n",
      "1             31.000                      0.000  \n",
      "2             31.000                      2.000  \n",
      "3             24.000                      4.000  \n",
      "4             30.000                      2.000  \n",
      "..               ...                        ...  \n",
      "735           30.000                      8.000  \n",
      "736           29.000                      4.000  \n",
      "737           34.000                      0.000  \n",
      "738           35.000                      0.000  \n",
      "739           25.000                      0.000  \n",
      "\n",
      "[740 rows x 12 columns]\n"
     ]
    }
   ],
   "source": [
    "numeric_c = df[['Transportation expense', 'Distance from Residence to Work', 'Service time', 'Age', 'Work load Average/day ', 'Hit target',\n",
    "     'Son', 'Pet', 'Weight', 'Height', 'Body mass index','Absenteeism time in hours']]\n",
    "print(numeric_c)"
   ]
  },
  {
   "cell_type": "code",
   "execution_count": 37,
   "metadata": {},
   "outputs": [],
   "source": [
    "corr = numeric_c.corr()"
   ]
  },
  {
   "cell_type": "code",
   "execution_count": 38,
   "metadata": {},
   "outputs": [
    {
     "data": {
      "text/plain": [
       "<matplotlib.axes._subplots.AxesSubplot at 0x1a1c3ffc488>"
      ]
     },
     "execution_count": 38,
     "metadata": {},
     "output_type": "execute_result"
    },
    {
     "data": {
      "image/png": "[encoded data removed]",
      "text/plain": [
       "<Figure size 864x576 with 2 Axes>"
      ]
     },
     "metadata": {
      "needs_background": "light"
     },
     "output_type": "display_data"
    }
   ],
   "source": [
    "f,ax = plt.subplots(figsize = (12,8))\n",
    "sns.heatmap(corr,mask = np.zeros_like(corr,dtype = np.object),cmap = sns.diverging_palette(220,10,as_cmap = True),square = True, ax=ax,annot = True)"
   ]
  },
  {
   "cell_type": "markdown",
   "metadata": {},
   "source": [
    "## ANOVA for categorical variable"
   ]
  },
  {
   "cell_type": "code",
   "execution_count": 39,
   "metadata": {},
   "outputs": [],
   "source": [
    "factor = df[['ID', 'Reason for absence', 'Month of absence', 'Day of the week','Seasons', 'Disciplinary failure', 'Education', 'Social drinker',\n",
    "       'Social smoker',]]"
   ]
  },
  {
   "cell_type": "code",
   "execution_count": 40,
   "metadata": {},
   "outputs": [
    {
     "data": {
      "text/html": [
       "<div>\n",
       "<style scoped>\n",
       "    .dataframe tbody tr th:only-of-type {\n",
       "        vertical-align: middle;\n",
       "    }\n",
       "\n",
       "    .dataframe tbody tr th {\n",
       "        vertical-align: top;\n",
       "    }\n",
       "\n",
       "    .dataframe thead th {\n",
       "        text-align: right;\n",
       "    }\n",
       "</style>\n",
       "<table border=\"1\" class=\"dataframe\">\n",
       "  <thead>\n",
       "    <tr style=\"text-align: right;\">\n",
       "      <th></th>\n",
       "      <th>ID</th>\n",
       "      <th>Reason for absence</th>\n",
       "      <th>Month of absence</th>\n",
       "      <th>Day of the week</th>\n",
       "      <th>Seasons</th>\n",
       "      <th>Disciplinary failure</th>\n",
       "      <th>Education</th>\n",
       "      <th>Social drinker</th>\n",
       "      <th>Social smoker</th>\n",
       "    </tr>\n",
       "  </thead>\n",
       "  <tbody>\n",
       "    <tr>\n",
       "      <td>0</td>\n",
       "      <td>11</td>\n",
       "      <td>26.000</td>\n",
       "      <td>7.000</td>\n",
       "      <td>3</td>\n",
       "      <td>1</td>\n",
       "      <td>0.000</td>\n",
       "      <td>1.000</td>\n",
       "      <td>1.000</td>\n",
       "      <td>0.000</td>\n",
       "    </tr>\n",
       "    <tr>\n",
       "      <td>1</td>\n",
       "      <td>36</td>\n",
       "      <td>0.000</td>\n",
       "      <td>7.000</td>\n",
       "      <td>3</td>\n",
       "      <td>1</td>\n",
       "      <td>1.000</td>\n",
       "      <td>1.000</td>\n",
       "      <td>1.000</td>\n",
       "      <td>0.000</td>\n",
       "    </tr>\n",
       "    <tr>\n",
       "      <td>2</td>\n",
       "      <td>3</td>\n",
       "      <td>23.000</td>\n",
       "      <td>7.000</td>\n",
       "      <td>4</td>\n",
       "      <td>1</td>\n",
       "      <td>0.000</td>\n",
       "      <td>1.000</td>\n",
       "      <td>1.000</td>\n",
       "      <td>0.000</td>\n",
       "    </tr>\n",
       "    <tr>\n",
       "      <td>3</td>\n",
       "      <td>7</td>\n",
       "      <td>7.000</td>\n",
       "      <td>7.000</td>\n",
       "      <td>5</td>\n",
       "      <td>1</td>\n",
       "      <td>0.000</td>\n",
       "      <td>1.000</td>\n",
       "      <td>1.000</td>\n",
       "      <td>1.000</td>\n",
       "    </tr>\n",
       "    <tr>\n",
       "      <td>4</td>\n",
       "      <td>11</td>\n",
       "      <td>23.000</td>\n",
       "      <td>7.000</td>\n",
       "      <td>5</td>\n",
       "      <td>1</td>\n",
       "      <td>0.000</td>\n",
       "      <td>1.000</td>\n",
       "      <td>1.000</td>\n",
       "      <td>0.000</td>\n",
       "    </tr>\n",
       "    <tr>\n",
       "      <td>...</td>\n",
       "      <td>...</td>\n",
       "      <td>...</td>\n",
       "      <td>...</td>\n",
       "      <td>...</td>\n",
       "      <td>...</td>\n",
       "      <td>...</td>\n",
       "      <td>...</td>\n",
       "      <td>...</td>\n",
       "      <td>...</td>\n",
       "    </tr>\n",
       "    <tr>\n",
       "      <td>735</td>\n",
       "      <td>11</td>\n",
       "      <td>14.000</td>\n",
       "      <td>7.000</td>\n",
       "      <td>3</td>\n",
       "      <td>1</td>\n",
       "      <td>0.000</td>\n",
       "      <td>1.000</td>\n",
       "      <td>1.000</td>\n",
       "      <td>0.000</td>\n",
       "    </tr>\n",
       "    <tr>\n",
       "      <td>736</td>\n",
       "      <td>1</td>\n",
       "      <td>11.000</td>\n",
       "      <td>7.000</td>\n",
       "      <td>3</td>\n",
       "      <td>1</td>\n",
       "      <td>0.000</td>\n",
       "      <td>3.000</td>\n",
       "      <td>0.000</td>\n",
       "      <td>0.000</td>\n",
       "    </tr>\n",
       "    <tr>\n",
       "      <td>737</td>\n",
       "      <td>4</td>\n",
       "      <td>0.000</td>\n",
       "      <td>0.000</td>\n",
       "      <td>3</td>\n",
       "      <td>1</td>\n",
       "      <td>0.000</td>\n",
       "      <td>1.000</td>\n",
       "      <td>1.000</td>\n",
       "      <td>0.000</td>\n",
       "    </tr>\n",
       "    <tr>\n",
       "      <td>738</td>\n",
       "      <td>8</td>\n",
       "      <td>0.000</td>\n",
       "      <td>0.000</td>\n",
       "      <td>4</td>\n",
       "      <td>2</td>\n",
       "      <td>0.000</td>\n",
       "      <td>1.000</td>\n",
       "      <td>1.000</td>\n",
       "      <td>0.000</td>\n",
       "    </tr>\n",
       "    <tr>\n",
       "      <td>739</td>\n",
       "      <td>35</td>\n",
       "      <td>0.000</td>\n",
       "      <td>0.000</td>\n",
       "      <td>6</td>\n",
       "      <td>3</td>\n",
       "      <td>0.000</td>\n",
       "      <td>1.000</td>\n",
       "      <td>0.000</td>\n",
       "      <td>0.000</td>\n",
       "    </tr>\n",
       "  </tbody>\n",
       "</table>\n",
       "<p>740 rows × 9 columns</p>\n",
       "</div>"
      ],
      "text/plain": [
       "     ID Reason for absence Month of absence Day of the week Seasons  \\\n",
       "0    11             26.000            7.000               3       1   \n",
       "1    36              0.000            7.000               3       1   \n",
       "2     3             23.000            7.000               4       1   \n",
       "3     7              7.000            7.000               5       1   \n",
       "4    11             23.000            7.000               5       1   \n",
       "..   ..                ...              ...             ...     ...   \n",
       "735  11             14.000            7.000               3       1   \n",
       "736   1             11.000            7.000               3       1   \n",
       "737   4              0.000            0.000               3       1   \n",
       "738   8              0.000            0.000               4       2   \n",
       "739  35              0.000            0.000               6       3   \n",
       "\n",
       "    Disciplinary failure Education Social drinker Social smoker  \n",
       "0                  0.000     1.000          1.000         0.000  \n",
       "1                  1.000     1.000          1.000         0.000  \n",
       "2                  0.000     1.000          1.000         0.000  \n",
       "3                  0.000     1.000          1.000         1.000  \n",
       "4                  0.000     1.000          1.000         0.000  \n",
       "..                   ...       ...            ...           ...  \n",
       "735                0.000     1.000          1.000         0.000  \n",
       "736                0.000     3.000          0.000         0.000  \n",
       "737                0.000     1.000          1.000         0.000  \n",
       "738                0.000     1.000          1.000         0.000  \n",
       "739                0.000     1.000          0.000         0.000  \n",
       "\n",
       "[740 rows x 9 columns]"
      ]
     },
     "execution_count": 40,
     "metadata": {},
     "output_type": "execute_result"
    }
   ],
   "source": [
    "factor"
   ]
  },
  {
   "cell_type": "code",
   "execution_count": 41,
   "metadata": {},
   "outputs": [
    {
     "name": "stdout",
     "output_type": "stream",
     "text": [
      "F_onewayResult(statistic=455.3711473915174, pvalue=2.707113523010777e-88)\n",
      "F_onewayResult(statistic=1.1472281864806217, pvalue=0.28430500959032)\n",
      "F_onewayResult(statistic=35.90534534236459, pvalue=2.597843591203105e-09)\n",
      "F_onewayResult(statistic=77.43805808135198, pvalue=3.7436356639463614e-18)\n",
      "F_onewayResult(statistic=194.00177378775473, pvalue=1.5848851694285747e-41)\n",
      "F_onewayResult(statistic=129.49899329227654, pvalue=8.030025614992404e-29)\n",
      "F_onewayResult(statistic=165.5086864619558, pvalue=5.582372789491098e-36)\n",
      "F_onewayResult(statistic=192.82867048087573, pvalue=2.6693616173845234e-41)\n"
     ]
    }
   ],
   "source": [
    "print(stats.f_oneway(df[\"Absenteeism time in hours\"],df[\"Reason for absence\"]))\n",
    "print(stats.f_oneway(df[\"Absenteeism time in hours\"],df[\"Month of absence\"]))\n",
    "print(stats.f_oneway(df[\"Absenteeism time in hours\"],df[\"Day of the week\"]))\n",
    "print(stats.f_oneway(df[\"Absenteeism time in hours\"],df[\"Seasons\"]))\n",
    "print(stats.f_oneway(df[\"Absenteeism time in hours\"],df[\"Disciplinary failure\"]))\n",
    "print(stats.f_oneway(df[\"Absenteeism time in hours\"],df[\"Education\"]))\n",
    "print(stats.f_oneway(df[\"Absenteeism time in hours\"],df[\"Social drinker\"]))\n",
    "print(stats.f_oneway(df[\"Absenteeism time in hours\"],df[\"Social smoker\"]))\n"
   ]
  },
  {
   "cell_type": "code",
   "execution_count": 42,
   "metadata": {},
   "outputs": [],
   "source": [
    "data = df.copy()"
   ]
  },
  {
   "cell_type": "code",
   "execution_count": 43,
   "metadata": {},
   "outputs": [],
   "source": [
    "df1 = df.drop(['ID','Seasons','Education','Height','Hit target','Pet','Body mass index','Disciplinary failure','Age','Social smoker','Social drinker','Son'],axis = 1)\n"
   ]
  },
  {
   "cell_type": "code",
   "execution_count": 44,
   "metadata": {},
   "outputs": [
    {
     "data": {
      "text/plain": [
       "(740, 9)"
      ]
     },
     "execution_count": 44,
     "metadata": {},
     "output_type": "execute_result"
    }
   ],
   "source": [
    "df1.shape"
   ]
  },
  {
   "cell_type": "markdown",
   "metadata": {},
   "source": [
    "## Data normalization"
   ]
  },
  {
   "cell_type": "code",
   "execution_count": 45,
   "metadata": {},
   "outputs": [
    {
     "data": {
      "text/plain": [
       "<matplotlib.axes._subplots.AxesSubplot at 0x1a1c44431c8>"
      ]
     },
     "execution_count": 45,
     "metadata": {},
     "output_type": "execute_result"
    },
    {
     "data": {
      "image/png": "[encoded data removed]",
      "text/plain": [
       "<Figure size 432x288 with 1 Axes>"
      ]
     },
     "metadata": {
      "needs_background": "light"
     },
     "output_type": "display_data"
    }
   ],
   "source": [
    "df1['Transportation expense'].hist(bins = 10)\n"
   ]
  },
  {
   "cell_type": "code",
   "execution_count": 46,
   "metadata": {},
   "outputs": [
    {
     "data": {
      "text/plain": [
       "<matplotlib.axes._subplots.AxesSubplot at 0x1a1c414c388>"
      ]
     },
     "execution_count": 46,
     "metadata": {},
     "output_type": "execute_result"
    },
    {
     "data": {
      "image/png": "[encoded data removed]",
      "text/plain": [
       "<Figure size 432x288 with 1 Axes>"
      ]
     },
     "metadata": {
      "needs_background": "light"
     },
     "output_type": "display_data"
    }
   ],
   "source": [
    "df1['Distance from Residence to Work'].hist(bins = 10)\n"
   ]
  },
  {
   "cell_type": "code",
   "execution_count": 47,
   "metadata": {},
   "outputs": [
    {
     "data": {
      "text/plain": [
       "<matplotlib.axes._subplots.AxesSubplot at 0x1a1c3ffee08>"
      ]
     },
     "execution_count": 47,
     "metadata": {},
     "output_type": "execute_result"
    },
    {
     "data": {
      "image/png": "[encoded data removed]",
      "text/plain": [
       "<Figure size 432x288 with 1 Axes>"
      ]
     },
     "metadata": {
      "needs_background": "light"
     },
     "output_type": "display_data"
    }
   ],
   "source": [
    "df1['Service time'].hist(bins = 10)\n"
   ]
  },
  {
   "cell_type": "code",
   "execution_count": 48,
   "metadata": {},
   "outputs": [
    {
     "data": {
      "text/plain": [
       "<matplotlib.axes._subplots.AxesSubplot at 0x1a1c4261b08>"
      ]
     },
     "execution_count": 48,
     "metadata": {},
     "output_type": "execute_result"
    },
    {
     "data": {
      "image/png": "[encoded data removed]",
      "text/plain": [
       "<Figure size 432x288 with 1 Axes>"
      ]
     },
     "metadata": {
      "needs_background": "light"
     },
     "output_type": "display_data"
    }
   ],
   "source": [
    "df1[ 'Work load Average/day '].hist(bins = 10)\n"
   ]
  },
  {
   "cell_type": "code",
   "execution_count": 49,
   "metadata": {},
   "outputs": [
    {
     "data": {
      "text/plain": [
       "<matplotlib.axes._subplots.AxesSubplot at 0x1a1c4665e88>"
      ]
     },
     "execution_count": 49,
     "metadata": {},
     "output_type": "execute_result"
    },
    {
     "data": {
      "image/png": "[encoded data removed]",
      "text/plain": [
       "<Figure size 432x288 with 1 Axes>"
      ]
     },
     "metadata": {
      "needs_background": "light"
     },
     "output_type": "display_data"
    }
   ],
   "source": [
    "df1['Weight'].hist(bins = 10)"
   ]
  },
  {
   "cell_type": "code",
   "execution_count": 50,
   "metadata": {},
   "outputs": [
    {
     "data": {
      "text/plain": [
       "ID                                 category\n",
       "Reason for absence                 category\n",
       "Month of absence                   category\n",
       "Day of the week                    category\n",
       "Seasons                            category\n",
       "Transportation expense              float64\n",
       "Distance from Residence to Work     float64\n",
       "Service time                        float64\n",
       "Age                                 float64\n",
       "Work load Average/day               float64\n",
       "Hit target                          float64\n",
       "Disciplinary failure               category\n",
       "Education                          category\n",
       "Son                                 float64\n",
       "Social drinker                     category\n",
       "Social smoker                      category\n",
       "Pet                                 float64\n",
       "Weight                              float64\n",
       "Height                              float64\n",
       "Body mass index                     float64\n",
       "Absenteeism time in hours           float64\n",
       "dtype: object"
      ]
     },
     "execution_count": 50,
     "metadata": {},
     "output_type": "execute_result"
    }
   ],
   "source": [
    "from sklearn.preprocessing import normalize\n",
    "normalized_df= preprocessing.normalize(df)\n",
    "df.dtypes"
   ]
  },
  {
   "cell_type": "markdown",
   "metadata": {},
   "source": [
    "## ML Algorithm\n",
    "### Dividing data into train and test"
   ]
  },
  {
   "cell_type": "code",
   "execution_count": 51,
   "metadata": {},
   "outputs": [],
   "source": [
    "train,test = train_test_split(df,test_size= 0.2)"
   ]
  },
  {
   "cell_type": "markdown",
   "metadata": {},
   "source": [
    "## Decision Tree Regression"
   ]
  },
  {
   "cell_type": "code",
   "execution_count": 52,
   "metadata": {},
   "outputs": [],
   "source": [
    "random.seed(123)\n",
    "fit = DecisionTreeRegressor(max_depth = 2).fit(train.iloc[:,0:8],train.iloc[:,8])"
   ]
  },
  {
   "cell_type": "code",
   "execution_count": 53,
   "metadata": {},
   "outputs": [],
   "source": [
    "predictions_dt = fit.predict(test.iloc[:,0:8])"
   ]
  },
  {
   "cell_type": "code",
   "execution_count": 54,
   "metadata": {},
   "outputs": [
    {
     "name": "stdout",
     "output_type": "stream",
     "text": [
      "11.75300848253558\n"
     ]
    }
   ],
   "source": [
    "mse_dt = (mean_squared_error(test.iloc[:,8], predictions_dt))\n",
    "print(mse_dt)"
   ]
  },
  {
   "cell_type": "code",
   "execution_count": 55,
   "metadata": {},
   "outputs": [
    {
     "name": "stdout",
     "output_type": "stream",
     "text": [
      "3.4282661043938205\n"
     ]
    }
   ],
   "source": [
    "rmse_dt = sqrt(mean_squared_error(test.iloc[:,8],predictions_dt))\n",
    "print(rmse_dt)"
   ]
  },
  {
   "cell_type": "markdown",
   "metadata": {},
   "source": [
    "## RandomForest\n",
    "### n=200"
   ]
  },
  {
   "cell_type": "code",
   "execution_count": 56,
   "metadata": {},
   "outputs": [
    {
     "name": "stdout",
     "output_type": "stream",
     "text": [
      "1.8567787162162168\n",
      "1.362636677994621\n"
     ]
    }
   ],
   "source": [
    "random.seed(123)\n",
    "rfregressor200 = RandomForestRegressor(n_estimators = 200, random_state = 0)\n",
    "rfregressor200.fit(train.iloc[:,0:8],train.iloc[:,8])\n",
    "predictions_rf200 = rfregressor200.predict(test.iloc[:,0:8])\n",
    "mse_rf200 = (mean_squared_error(test.iloc[:,8], predictions_rf200))\n",
    "print(mse_rf200)\n",
    "rmse_rf200 = sqrt(mean_squared_error(test.iloc[:,8],predictions_rf200))\n",
    "print(rmse_rf200)"
   ]
  },
  {
   "cell_type": "markdown",
   "metadata": {},
   "source": [
    "### n=300"
   ]
  },
  {
   "cell_type": "code",
   "execution_count": 57,
   "metadata": {},
   "outputs": [
    {
     "name": "stdout",
     "output_type": "stream",
     "text": [
      "1.8567787162162168\n",
      "1.362636677994621\n"
     ]
    }
   ],
   "source": [
    "random.seed(123)\n",
    "rfregressor300 = RandomForestRegressor(n_estimators = 300, random_state = 0)\n",
    "rfregressor300.fit(train.iloc[:,0:8],train.iloc[:,8])\n",
    "predictions_rf300 = rfregressor200.predict(test.iloc[:,0:8])\n",
    "mse_rf300 = (mean_squared_error(test.iloc[:,8], predictions_rf200))\n",
    "print(mse_rf300)\n",
    "rmse_rf300 = sqrt(mean_squared_error(test.iloc[:,8],predictions_rf300))\n",
    "print(rmse_rf300)"
   ]
  },
  {
   "cell_type": "markdown",
   "metadata": {},
   "source": [
    "### n=400"
   ]
  },
  {
   "cell_type": "code",
   "execution_count": 58,
   "metadata": {},
   "outputs": [
    {
     "name": "stdout",
     "output_type": "stream",
     "text": [
      "1.8149029138513517\n",
      "1.3471833259996027\n"
     ]
    }
   ],
   "source": [
    "random.seed(123)\n",
    "rfregressor400 = RandomForestRegressor(n_estimators = 400, random_state = 0)\n",
    "rfregressor400.fit(train.iloc[:,0:8],train.iloc[:,8])\n",
    "predictions_rf400 = rfregressor400.predict(test.iloc[:,0:8])\n",
    "mse_rf400 = (mean_squared_error(test.iloc[:,8], predictions_rf400))\n",
    "print(mse_rf400)\n",
    "rmse_rf400 = sqrt(mean_squared_error(test.iloc[:,8],predictions_rf400))\n",
    "print(rmse_rf400)"
   ]
  },
  {
   "cell_type": "code",
   "execution_count": null,
   "metadata": {},
   "outputs": [],
   "source": []
  }
 ],
 "metadata": {
  "kernelspec": {
   "display_name": "Python 3",
   "language": "python",
   "name": "python3"
  },
  "language_info": {
   "codemirror_mode": {
    "name": "ipython",
    "version": 3
   },
   "file_extension": ".py",
   "mimetype": "text/x-python",
   "name": "python",
   "nbconvert_exporter": "python",
   "pygments_lexer": "ipython3",
   "version": "3.7.4"
  }
 },
 "nbformat": 4,
 "nbformat_minor": 2
}
